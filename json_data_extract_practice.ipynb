{
 "cells": [
  {
   "cell_type": "code",
   "execution_count": 1,
   "metadata": {},
   "outputs": [],
   "source": [
    "# importing python http connection library\n",
    "import requests"
   ]
  },
  {
   "cell_type": "code",
   "execution_count": 4,
   "metadata": {},
   "outputs": [],
   "source": [
    "# connecting to restful api\n",
    "url = 'https://restcountries.com/v3.1/all'"
   ]
  },
  {
   "cell_type": "code",
   "execution_count": 5,
   "metadata": {},
   "outputs": [],
   "source": [
    "response = requests.get(url)"
   ]
  },
  {
   "cell_type": "code",
   "execution_count": 6,
   "metadata": {},
   "outputs": [],
   "source": [
    "# this is our variable to hold our .json file. The .json() is required in order to clarify the json for python\n",
    "storage = response.json()"
   ]
  },
  {
   "cell_type": "code",
   "execution_count": 7,
   "metadata": {},
   "outputs": [
    {
     "name": "stdout",
     "output_type": "stream",
     "text": [
      "<class 'list'>\n"
     ]
    }
   ],
   "source": [
    "# this will determine the first nested data type that will be called upon\n",
    "print(type(storage))\n",
    "# list type"
   ]
  },
  {
   "cell_type": "code",
   "execution_count": 8,
   "metadata": {},
   "outputs": [
    {
     "name": "stdout",
     "output_type": "stream",
     "text": [
      "250\n"
     ]
    }
   ],
   "source": [
    "# a total count of the number of dictionaries within our list\n",
    "print(len(storage))"
   ]
  },
  {
   "cell_type": "code",
   "execution_count": 10,
   "metadata": {},
   "outputs": [
    {
     "name": "stdout",
     "output_type": "stream",
     "text": [
      "{'name': {'common': 'Jordan', 'official': 'Hashemite Kingdom of Jordan', 'nativeName': {'ara': {'official': 'المملكة الأردنية الهاشمية', 'common': 'الأردن'}}}, 'tld': ['.jo', 'الاردن.'], 'cca2': 'JO', 'ccn3': '400', 'cca3': 'JOR', 'cioc': 'JOR', 'independent': True, 'status': 'officially-assigned', 'unMember': True, 'currencies': {'JOD': {'name': 'Jordanian dinar', 'symbol': 'د.ا'}}, 'idd': {'root': '+9', 'suffixes': ['62']}, 'capital': ['Amman'], 'altSpellings': ['JO', 'Hashemite Kingdom of Jordan', 'al-Mamlakah al-Urdunīyah al-Hāshimīyah'], 'region': 'Asia', 'subregion': 'Western Asia', 'languages': {'ara': 'Arabic'}, 'translations': {'ara': {'official': 'المملكة الأردنية الهاشمية', 'common': 'الأردن'}, 'bre': {'official': 'Rouantelezh hachemit Jordania', 'common': 'Jordania'}, 'ces': {'official': 'Jordánské hášimovské království', 'common': 'Jordánsko'}, 'cym': {'official': 'Hashemite Kingdom of Jordan', 'common': 'Jordan'}, 'deu': {'official': 'Haschemitisches Königreich Jordanien', 'common': 'Jordanien'}, 'est': {'official': 'Jordaania Hašimiidi Kuningriik', 'common': 'Jordaania'}, 'fin': {'official': 'Jordanian hašemiittinen kunigaskunta', 'common': 'Jordania'}, 'fra': {'official': 'Royaume hachémite de Jordanie', 'common': 'Jordanie'}, 'hrv': {'official': 'Hašemitske Kraljevine Jordan', 'common': 'Jordan'}, 'hun': {'official': 'Jordánia', 'common': 'Jordánia'}, 'ita': {'official': 'Regno hascemita di Giordania', 'common': 'Giordania'}, 'jpn': {'official': 'ヨルダン·ハシミテ王国', 'common': 'ヨルダン'}, 'kor': {'official': '요르단 하심 왕국', 'common': '요르단'}, 'nld': {'official': 'Hasjemitisch Koninkrijk Jordanië', 'common': 'Jordanië'}, 'per': {'official': 'پادشاهی اُردُن هاشمی', 'common': 'اردن'}, 'pol': {'official': 'Jordańskie Królestwo Haszymidzkie', 'common': 'Jordania'}, 'por': {'official': 'Reino Hachemita da Jordânia', 'common': 'Jordânia'}, 'rus': {'official': 'Иорданского Хашимитского Королевства', 'common': 'Иордания'}, 'slk': {'official': 'Jordánske hášimovské kráľovstvo', 'common': 'Jordánsko'}, 'spa': {'official': 'Reino Hachemita de Jordania', 'common': 'Jordania'}, 'srp': {'official': 'Хашемитска Краљевина Јордан', 'common': 'Јордан'}, 'swe': {'official': 'Hashimitiska kungadömet Jordanien', 'common': 'Jordanien'}, 'tur': {'official': 'Ürdün Hâşimi Krallığı', 'common': 'Ürdün'}, 'urd': {'official': 'ھاشمی مملکتِ اردن', 'common': 'اردن'}, 'zho': {'official': '约旦哈希姆王国', 'common': '约旦'}}, 'latlng': [31.0, 36.0], 'landlocked': False, 'borders': ['IRQ', 'ISR', 'PSE', 'SAU', 'SYR'], 'area': 89342.0, 'demonyms': {'eng': {'f': 'Jordanian', 'm': 'Jordanian'}, 'fra': {'f': 'Jordanienne', 'm': 'Jordanien'}}, 'flag': '🇯🇴', 'maps': {'googleMaps': 'https://goo.gl/maps/ko1dzSDKg8Gsi9A98', 'openStreetMaps': 'https://www.openstreetmap.org/relation/184818'}, 'population': 10203140, 'gini': {'2010': 33.7}, 'fifa': 'JOR', 'car': {'signs': ['HKJ'], 'side': 'right'}, 'timezones': ['UTC+03:00'], 'continents': ['Asia'], 'flags': {'png': 'https://flagcdn.com/w320/jo.png', 'svg': 'https://flagcdn.com/jo.svg', 'alt': 'The flag of Jordan is composed of three equal horizontal bands of black, white and green, with a red isosceles triangle superimposed on the hoist side of the field. This triangle has its base on the hoist end, spans about half the width of the field and bears a small seven-pointed white star at its center.'}, 'coatOfArms': {'png': 'https://mainfacts.com/media/images/coats_of_arms/jo.png', 'svg': 'https://mainfacts.com/media/images/coats_of_arms/jo.svg'}, 'startOfWeek': 'sunday', 'capitalInfo': {'latlng': [31.95, 35.93]}, 'postalCode': {'format': '#####', 'regex': '^(\\\\d{5})$'}}\n"
     ]
    }
   ],
   "source": [
    "# this returns the first dictionary within the nested list\n",
    "print(storage[0])"
   ]
  },
  {
   "cell_type": "code",
   "execution_count": 12,
   "metadata": {},
   "outputs": [
    {
     "name": "stdout",
     "output_type": "stream",
     "text": [
      "<class 'dict'>\n"
     ]
    }
   ],
   "source": [
    "# confirming that the next thing within the nest is a dictionary\n",
    "print(type(storage[0]))"
   ]
  },
  {
   "cell_type": "code",
   "execution_count": 13,
   "metadata": {},
   "outputs": [
    {
     "data": {
      "text/plain": [
       "{'JOD': {'name': 'Jordanian dinar', 'symbol': 'د.ا'}}"
      ]
     },
     "execution_count": 13,
     "metadata": {},
     "output_type": "execute_result"
    }
   ],
   "source": [
    "# this is the currencies key value-pair in our list that details everything about Jordan\n",
    "storage[0]['currencies']"
   ]
  },
  {
   "cell_type": "code",
   "execution_count": 14,
   "metadata": {},
   "outputs": [
    {
     "name": "stdout",
     "output_type": "stream",
     "text": [
      "<class 'dict'>\n"
     ]
    }
   ],
   "source": [
    "# this is a nested dictionary within a nested dictionary\n",
    "print(type(storage[0]['currencies']))"
   ]
  },
  {
   "cell_type": "code",
   "execution_count": 17,
   "metadata": {},
   "outputs": [
    {
     "name": "stdout",
     "output_type": "stream",
     "text": [
      "{'name': 'Jordanian dinar', 'symbol': 'د.ا'}\n"
     ]
    }
   ],
   "source": [
    "# accessing the 2nd key value pair within our nested dictionary\n",
    "print(storage[0]['currencies']['JOD'])"
   ]
  },
  {
   "cell_type": "code",
   "execution_count": 19,
   "metadata": {},
   "outputs": [
    {
     "name": "stdout",
     "output_type": "stream",
     "text": [
      "<class 'str'>\n"
     ]
    }
   ],
   "source": [
    "# this denotes that were within the last dictionary of our data\n",
    "print(type((storage[0]['currencies']['JOD']['name'])))"
   ]
  },
  {
   "cell_type": "code",
   "execution_count": 20,
   "metadata": {},
   "outputs": [
    {
     "name": "stdout",
     "output_type": "stream",
     "text": [
      "Jordanian dinar\n"
     ]
    }
   ],
   "source": [
    "print((storage[0]['currencies']['JOD']['name']))"
   ]
  },
  {
   "cell_type": "code",
   "execution_count": null,
   "metadata": {},
   "outputs": [],
   "source": []
  }
 ],
 "metadata": {
  "kernelspec": {
   "display_name": "codeup",
   "language": "python",
   "name": "python3"
  },
  "language_info": {
   "codemirror_mode": {
    "name": "ipython",
    "version": 3
   },
   "file_extension": ".py",
   "mimetype": "text/x-python",
   "name": "python",
   "nbconvert_exporter": "python",
   "pygments_lexer": "ipython3",
   "version": "3.11.4"
  },
  "orig_nbformat": 4
 },
 "nbformat": 4,
 "nbformat_minor": 2
}
