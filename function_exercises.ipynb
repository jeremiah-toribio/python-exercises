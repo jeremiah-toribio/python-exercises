{
 "cells": [
  {
   "cell_type": "markdown",
   "metadata": {},
   "source": [
    "##### 1. Define a function named is_two. It should accept one input and return True if the passed input is either the number or the string 2, False otherwise."
   ]
  },
  {
   "cell_type": "code",
   "execution_count": 8,
   "metadata": {},
   "outputs": [
    {
     "name": "stdout",
     "output_type": "stream",
     "text": [
      "True\n"
     ]
    },
    {
     "data": {
      "text/plain": [
       "False"
      ]
     },
     "execution_count": 8,
     "metadata": {},
     "output_type": "execute_result"
    }
   ],
   "source": [
    "def is_two(x):\n",
    "    # is_two will be our named function which will perform actions down below\n",
    "    if x % 2 == 0:\n",
    "        return True\n",
    "    else:\n",
    "        return False"
   ]
  },
  {
   "cell_type": "markdown",
   "metadata": {},
   "source": [
    "##### 2. Define a function named is_vowel. It should return True if the passed string is a vowel, False otherwise.\n"
   ]
  },
  {
   "cell_type": "code",
   "execution_count": 2,
   "metadata": {},
   "outputs": [],
   "source": [
    "def is_vowel(x):\n",
    "    x.lower()\n",
    "    # preprocess by lowering all string characters\n",
    "    if x in ('aeiouAEIOU'):\n",
    "    # selecting which letters will be 'vowels'\n",
    "        return True\n",
    "    else:\n",
    "        return False"
   ]
  },
  {
   "cell_type": "markdown",
   "metadata": {},
   "source": [
    "##### 3. Define a function named is_consonant. It should return True if the passed string is a consonant, False otherwise. Use your is_vowel function to accomplish this.\n"
   ]
  },
  {
   "cell_type": "code",
   "execution_count": 164,
   "metadata": {},
   "outputs": [],
   "source": [
    "def is_consenant(x):\n",
    "    x.lower()\n",
    "    if x != ('a','e','i','o','u') and len(x) > 1:\n",
    "    # inverse of vowels to get all letters that are not vowels\n",
    "        return True\n",
    "    else:\n",
    "        return False"
   ]
  },
  {
   "cell_type": "markdown",
   "metadata": {},
   "source": [
    "##### 4. Define a function that accepts a string that is a word. The function should capitalize the first letter of the word if the word starts with a consonant.\n"
   ]
  },
  {
   "cell_type": "code",
   "execution_count": 77,
   "metadata": {},
   "outputs": [
    {
     "data": {
      "text/plain": [
       "'Bape'"
      ]
     },
     "execution_count": 77,
     "metadata": {},
     "output_type": "execute_result"
    }
   ],
   "source": [
    "vowels = ('a','e','i','o','u')\n",
    "def auto_caps(x):\n",
    "    y = str(x[0])\n",
    "    # selecting the first letter of argument to be held within a variable\n",
    "    if y.lower() not in vowels:\n",
    "    # checking if first letter in argument is contained within the vowels list\n",
    "        return x.capitalize()\n",
    "    # instead of altering the first letter chose the .capitalize() function to do the job\n",
    "    else:\n",
    "        return x\n",
    "\n",
    "auto_caps('bape')"
   ]
  },
  {
   "cell_type": "markdown",
   "metadata": {},
   "source": [
    "##### 5. Define a function named calculate_tip. It should accept a tip percentage (a number between 0 and 1) and the bill total, and return the amount to tip."
   ]
  },
  {
   "cell_type": "code",
   "execution_count": 80,
   "metadata": {},
   "outputs": [
    {
     "data": {
      "text/plain": [
       "6.0"
      ]
     },
     "execution_count": 80,
     "metadata": {},
     "output_type": "execute_result"
    }
   ],
   "source": [
    "def calculate_tip(tip, bill):\n",
    "    # two arguments in order to express both the tip and bill\n",
    "    return (float(tip) * bill)\n",
    "\n",
    "calculate_tip(.2, 30)"
   ]
  },
  {
   "cell_type": "markdown",
   "metadata": {},
   "source": [
    "##### 6. Define a function named apply_discount. It should accept a original price, and a discount percentage, and return the price after the discount is applied."
   ]
  },
  {
   "cell_type": "code",
   "execution_count": 93,
   "metadata": {},
   "outputs": [
    {
     "data": {
      "text/plain": [
       "44.0"
      ]
     },
     "execution_count": 93,
     "metadata": {},
     "output_type": "execute_result"
    }
   ],
   "source": [
    "def apply_discount(price, disc):\n",
    "    after = price * disc\n",
    "    return after + price\n",
    "# this one must include price as well as discounted price\n",
    "\n",
    "apply_discount(40, .10)"
   ]
  },
  {
   "cell_type": "markdown",
   "metadata": {},
   "source": [
    "##### 7. Define a function named handle_commas. It should accept a string that is a number that contains commas in it as input, and return a number as output"
   ]
  },
  {
   "cell_type": "code",
   "execution_count": 162,
   "metadata": {},
   "outputs": [
    {
     "data": {
      "text/plain": [
       "10033"
      ]
     },
     "execution_count": 162,
     "metadata": {},
     "output_type": "execute_result"
    }
   ],
   "source": [
    "def handle_commas(x):\n",
    "    if x.isdigit() == False:\n",
    "    # filtering any arguments that are not digits\n",
    "        x = x.replace(',','')\n",
    "        x = int(x)\n",
    "        return x\n",
    "    # problem with this function is it will only break if argument is not a number with a comma\n",
    "\n",
    "\n",
    "handle_commas('100,33')"
   ]
  },
  {
   "cell_type": "markdown",
   "metadata": {},
   "source": [
    "##### 8. Define a function named get_letter_grade. It should accept a number and return the letter grade associated with that number (A-F).\n"
   ]
  },
  {
   "cell_type": "code",
   "execution_count": 170,
   "metadata": {},
   "outputs": [
    {
     "name": "stdout",
     "output_type": "stream",
     "text": [
      "B\n"
     ]
    }
   ],
   "source": [
    "def get_letter_grade(grade):\n",
    "    # defining grade ranges\n",
    "    if grade >= 88 and grade <= 100:\n",
    "        print('A')\n",
    "    elif grade >= 80 and grade <= 87:\n",
    "        print('B')\n",
    "    elif grade >= 67 and grade <= 79:\n",
    "        print('C')\n",
    "    elif grade >= 60 and grade <= 66:\n",
    "        print('D')\n",
    "    else:\n",
    "        print('F')\n",
    "    return\n",
    "\n",
    "get_letter_grade(80)\n"
   ]
  },
  {
   "cell_type": "markdown",
   "metadata": {},
   "source": [
    "##### 9. Define a function named remove_vowels that accepts a string and returns a string with all the vowels removed."
   ]
  },
  {
   "cell_type": "code",
   "execution_count": 173,
   "metadata": {},
   "outputs": [
    {
     "data": {
      "text/plain": [
       "'plnt'"
      ]
     },
     "execution_count": 173,
     "metadata": {},
     "output_type": "execute_result"
    }
   ],
   "source": [
    "def remove_vowels(x):\n",
    "    vowels = ('a','e','i','o','u')\n",
    "    result = ''\n",
    "    for vowel in x:\n",
    "        if vowel not in vowels:\n",
    "            result += vowel\n",
    "    return result\n",
    "\n",
    "remove_vowels('plant')\n"
   ]
  },
  {
   "cell_type": "markdown",
   "metadata": {},
   "source": [
    "##### 10. Define a function named normalize_name. It should accept a string and return a valid python identifier, that is:\n",
    "- anything that is not a valid python identifier should be removed\n",
    "- leading and trailing whitespace should be removed\n",
    "- everything should be lowercase\n",
    "- spaces should be replaced with underscores\n",
    "- for example:\n",
    "- - Name will become name\n",
    "- - First Name will become first_name\n",
    "- - % Completed will become completed"
   ]
  },
  {
   "cell_type": "code",
   "execution_count": 186,
   "metadata": {},
   "outputs": [
    {
     "data": {
      "text/plain": [
       "'how_is_th_at__'"
      ]
     },
     "execution_count": 186,
     "metadata": {},
     "output_type": "execute_result"
    }
   ],
   "source": [
    "def normalize_name(name):\n",
    "    # selecting all characters that could be removed, this does not include everything but would be useful for most bodies of text\n",
    "    removals = [\".\", \",\" , \"'\", '\"', \"/\", \"[\", \"]\", \"|\", \"!\", \"?\", \"@\", \"#\", \"$\", \"%\", \"^\", \"&\", \"*\", \"(\", \")\" ]\n",
    "    \n",
    "    # simple preprocessing to handle white spaces and lowercase texts\n",
    "    if type(name) == type('str') or type:\n",
    "    # defining type in order to filter data types\n",
    "        for punc in removals:\n",
    "            name = name.lower().strip()\n",
    "            name = name.replace(punc, '')\n",
    "            name = name.replace(' ', '_')\n",
    "    else:\n",
    "        print(\"please provide a string\")\n",
    "    return name\n",
    "\n",
    "normalize_name('h\\'ow i#s t%h *at [ ]')\n",
    "    "
   ]
  },
  {
   "cell_type": "markdown",
   "metadata": {},
   "source": [
    "##### 11. Write a function named cumulative_sum that accepts a list of numbers and returns a list that is the cumulative sum of the numbers in the list.\n",
    "- cumulative_sum([1, 1, 1]) returns [1, 2, 3]\n",
    "- cumulative_sum([1, 2, 3, 4]) returns [1, 3, 6, 10]"
   ]
  },
  {
   "cell_type": "code",
   "execution_count": null,
   "metadata": {},
   "outputs": [],
   "source": [
    "# importing accumulate from itertools in order to easily add list iterations\n",
    "#from itertools import accumulate\n",
    "\n",
    "# help(accumulate)"
   ]
  },
  {
   "cell_type": "code",
   "execution_count": 191,
   "metadata": {},
   "outputs": [
    {
     "data": {
      "text/plain": [
       "[1, 4, 8]"
      ]
     },
     "execution_count": 191,
     "metadata": {},
     "output_type": "execute_result"
    }
   ],
   "source": [
    "# numpy cumsum was option 1\n",
    "# itertools accumulate was option 2\n",
    "#from itertools import accumulate\n",
    "#i = 0\n",
    "#x = []\n",
    "#def cumulative_sum(x):\n",
    "#     return list((accumulate(x)))\n",
    "    \n",
    "# solved with option 2\n",
    "\n",
    "#cumulative_sum([1,3,4])\n"
   ]
  }
 ],
 "metadata": {
  "kernelspec": {
   "display_name": "codeup",
   "language": "python",
   "name": "python3"
  },
  "language_info": {
   "codemirror_mode": {
    "name": "ipython",
    "version": 3
   },
   "file_extension": ".py",
   "mimetype": "text/x-python",
   "name": "python",
   "nbconvert_exporter": "python",
   "pygments_lexer": "ipython3",
   "version": "3.11.4"
  },
  "orig_nbformat": 4
 },
 "nbformat": 4,
 "nbformat_minor": 2
}
