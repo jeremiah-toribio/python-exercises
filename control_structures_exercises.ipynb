{
 "cells": [
  {
   "cell_type": "markdown",
   "metadata": {},
   "source": [
    "## 1. Conditional Basics\n",
    "\n",
    "#### 1a. Prompt the user for a day of the week, print out whether the day is Monday or not"
   ]
  },
  {
   "cell_type": "code",
   "execution_count": 4,
   "metadata": {},
   "outputs": [
    {
     "name": "stdout",
     "output_type": "stream",
     "text": [
      "This isn't Monday\n"
     ]
    }
   ],
   "source": [
    "days_of_the_week = {'days': ['monday','tuesday', 'wednesday', 'thursday', 'friday']}\n",
    "if input('What day of the week is it? ') != days_of_the_week['days'][0]:\n",
    "    print('This isn\\'t Monday')\n",
    "else:\n",
    "    print('Nice')"
   ]
  },
  {
   "cell_type": "markdown",
   "metadata": {},
   "source": [
    "#### 1b. Prompt the user for a day of the week, print out whether the day is a weekday or a weekend"
   ]
  },
  {
   "cell_type": "code",
   "execution_count": 41,
   "metadata": {},
   "outputs": [
    {
     "name": "stdout",
     "output_type": "stream",
     "text": [
      "that's not a day\n"
     ]
    }
   ],
   "source": [
    "day_input = input('What day of the week is it? ')\n",
    "\n",
    "weekday = ['monday', 'tuesday', 'wednesday', 'thursday', 'friday'] # {'days': ['monday','tuesday','wednesday', 'thursday', 'friday'], 'weekend': ['saturday', 'sunday']}\n",
    "weekend = ['saturday', 'sunday']\n",
    "\n",
    "for day in weekday and weekend:\n",
    "    if day_input == weekday[0:4]:\n",
    "        print('Oh it\\'s a weekday?')\n",
    "    if day_input == weekend[0:1]:\n",
    "        print('Nice the weekend')\n",
    "else:\n",
    "    print('that\\'s not a day')"
   ]
  },
  {
   "cell_type": "markdown",
   "metadata": {},
   "source": [
    "### Calculate a weekly paycheck, accounting for overtime pay. Create variables and make up values for:\n",
    "\n",
    "- The number of hours worked in one week\n",
    "- The hourly rate\n",
    "*For calculating pay:*\n",
    "\n",
    "- For working 40 hours or less, each hour is paid at the hourly rate\n",
    "- For working more than 40 hours\n",
    "    - the first 40 hours are paid at the hourly rate\n",
    "    - each hour after 40 is paid at time and a half (hourly rate * 1.5)"
   ]
  },
  {
   "cell_type": "code",
   "execution_count": 83,
   "metadata": {},
   "outputs": [
    {
     "name": "stdout",
     "output_type": "stream",
     "text": [
      "1020\n"
     ]
    }
   ],
   "source": [
    "num_hrs = int(input('how many hours were worked this week?'))\n",
    "hr_rate = 30\n",
    "weekly_paycheck = num_hrs * hr_rate\n",
    "ot_pay = 45\n",
    "ot_hrs = 0\n",
    "\n",
    "def ot_check(x):\n",
    "    if num_hrs > 40:\n",
    "        ot_hrs = (num_hrs - 40)\n",
    "        print((ot_hrs * ot_pay) + (num_hrs * hr_rate))\n",
    "    else:\n",
    "        print(num_hrs * hr_rate)\n",
    "\n",
    "ot_check(num_hrs)\n"
   ]
  },
  {
   "cell_type": "code",
   "execution_count": null,
   "metadata": {},
   "outputs": [],
   "source": []
  },
  {
   "cell_type": "code",
   "execution_count": null,
   "metadata": {},
   "outputs": [],
   "source": []
  }
 ],
 "metadata": {
  "kernelspec": {
   "display_name": "codeup",
   "language": "python",
   "name": "python3"
  },
  "language_info": {
   "codemirror_mode": {
    "name": "ipython",
    "version": 3
   },
   "file_extension": ".py",
   "mimetype": "text/x-python",
   "name": "python",
   "nbconvert_exporter": "python",
   "pygments_lexer": "ipython3",
   "version": "3.11.4"
  },
  "orig_nbformat": 4
 },
 "nbformat": 4,
 "nbformat_minor": 2
}
