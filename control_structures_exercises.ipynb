{
 "cells": [
  {
   "cell_type": "markdown",
   "metadata": {},
   "source": [
    "## 1. Conditional Basics\n",
    "\n",
    "#### 1a. Prompt the user for a day of the week, print out whether the day is Monday or not"
   ]
  },
  {
   "cell_type": "code",
   "execution_count": 4,
   "metadata": {},
   "outputs": [
    {
     "name": "stdout",
     "output_type": "stream",
     "text": [
      "This isn't Monday\n"
     ]
    }
   ],
   "source": [
    "days_of_the_week = {'days': ['monday','tuesday', 'wednesday', 'thursday', 'friday']}\n",
    "if input('What day of the week is it? ') != days_of_the_week['days'][0]:\n",
    "    print('This isn\\'t Monday')\n",
    "else:\n",
    "    print('Nice')"
   ]
  },
  {
   "cell_type": "markdown",
   "metadata": {},
   "source": [
    "#### 1b. Prompt the user for a day of the week, print out whether the day is a weekday or a weekend"
   ]
  },
  {
   "cell_type": "code",
   "execution_count": 108,
   "metadata": {},
   "outputs": [
    {
     "name": "stdout",
     "output_type": "stream",
     "text": [
      "Oh it's a weekday?\n"
     ]
    }
   ],
   "source": [
    "day_input = input('What day of the week is it? ')\n",
    "# ['monday', 'tuesday', 'wednesday', 'thursday', 'friday']\n",
    "days_of_the_week = {'days': ['monday','tuesday','wednesday', 'thursday', 'friday'], 'weekend': ['saturday', 'sunday']}\n",
    "\n",
    "if day_input in days_of_the_week['days']:\n",
    "    print('Oh it\\'s a weekday?')\n",
    "elif day_input in days_of_the_week['weekend']:\n",
    "    print('It\\'s the burger flippin weekend')\n",
    "else:\n",
    "    print('that\\'s not a day')"
   ]
  },
  {
   "cell_type": "markdown",
   "metadata": {},
   "source": [
    "### Calculate a weekly paycheck, accounting for overtime pay. Create variables and make up values for:\n",
    "\n",
    "- The number of hours worked in one week\n",
    "- The hourly rate\n",
    "*For calculating pay:*\n",
    "\n",
    "- For working 40 hours or less, each hour is paid at the hourly rate\n",
    "- For working more than 40 hours\n",
    "    - the first 40 hours are paid at the hourly rate\n",
    "    - each hour after 40 is paid at time and a half (hourly rate * 1.5)"
   ]
  },
  {
   "cell_type": "code",
   "execution_count": null,
   "metadata": {},
   "outputs": [
    {
     "name": "stdout",
     "output_type": "stream",
     "text": [
      "1275\n"
     ]
    }
   ],
   "source": [
    "# create an input for the number of hours worked\n",
    "num_hrs = int(input('how many hours were worked this week?'))\n",
    "\n",
    "hr_rate = 30\n",
    "weekly_paycheck = num_hrs * hr_rate\n",
    "ot_pay = 45\n",
    "ot_hrs = 0\n",
    "\n",
    "# function to calculate wages with overtime in consideration \n",
    "def ot_check(x):\n",
    "    if num_hrs > 40:\n",
    "        ot_hrs = (num_hrs - 40)\n",
    "        print((ot_hrs * ot_pay) + (num_hrs * hr_rate))\n",
    "    else:\n",
    "        print(num_hrs * hr_rate)\n",
    "\n",
    "ot_check(num_hrs)\n"
   ]
  },
  {
   "cell_type": "code",
   "execution_count": 115,
   "metadata": {},
   "outputs": [
    {
     "name": "stdout",
     "output_type": "stream",
     "text": [
      "1275\n"
     ]
    }
   ],
   "source": [
    "# create an input for the number of hours worked\n",
    "num_hrs = int(input('how many hours were worked this week?'))\n",
    "\n",
    "hr_rate = 30\n",
    "weekly_paycheck = num_hrs * hr_rate\n",
    "ot_pay = 45\n",
    "ot_hrs = 0\n",
    "\n",
    "# function to calculate wages with overtime in consideration \n",
    "def ot_check(x):\n",
    "    if num_hrs > 40:\n",
    "        ot_hrs = (num_hrs - 40)\n",
    "        print((ot_hrs * ot_pay) + (num_hrs * hr_rate))\n",
    "    else:\n",
    "        print(num_hrs * hr_rate)\n",
    "\n",
    "ot_check(num_hrs)\n"
   ]
  },
  {
   "cell_type": "markdown",
   "metadata": {},
   "source": [
    "## 2. Loop Basics\n",
    "\n",
    "### a. While\n",
    "\n",
    "*i. Create an integer variable i with a value of 5. Create a while loop that runs so long as i is less than or equal to 15.* </br>\n",
    "\n",
    "*Each loop iteration, output the current value of i, then increment i by one.*"
   ]
  },
  {
   "cell_type": "code",
   "execution_count": 118,
   "metadata": {},
   "outputs": [
    {
     "name": "stdout",
     "output_type": "stream",
     "text": [
      "5\n",
      "6\n",
      "7\n",
      "8\n",
      "9\n",
      "10\n",
      "11\n",
      "12\n",
      "13\n",
      "14\n",
      "15\n"
     ]
    }
   ],
   "source": [
    "i = 5\n",
    "while i <= 15:\n",
    "    print(i)\n",
    "    i += 1"
   ]
  },
  {
   "cell_type": "code",
   "execution_count": null,
   "metadata": {},
   "outputs": [],
   "source": [
    "i = 0\n",
    "while i <= 100:\n",
    "    print(i, \"\\n\")\n",
    "    i += 2"
   ]
  },
  {
   "cell_type": "code",
   "execution_count": 2,
   "metadata": {},
   "outputs": [
    {
     "ename": "IndentationError",
     "evalue": "unexpected indent (1217247306.py, line 4)",
     "output_type": "error",
     "traceback": [
      "\u001b[0;36m  Cell \u001b[0;32mIn[2], line 4\u001b[0;36m\u001b[0m\n\u001b[0;31m    i ** 2\u001b[0m\n\u001b[0m    ^\u001b[0m\n\u001b[0;31mIndentationError\u001b[0m\u001b[0;31m:\u001b[0m unexpected indent\n"
     ]
    }
   ],
   "source": [
    "#i = 2\n",
    "#while i <= 1000000:\n",
    "#    print(i, \"\\n\")\n",
    "    i ** 2\n",
    "    break"
   ]
  },
  {
   "cell_type": "code",
   "execution_count": null,
   "metadata": {},
   "outputs": [],
   "source": []
  }
 ],
 "metadata": {
  "kernelspec": {
   "display_name": "codeup",
   "language": "python",
   "name": "python3"
  },
  "language_info": {
   "codemirror_mode": {
    "name": "ipython",
    "version": 3
   },
   "file_extension": ".py",
   "mimetype": "text/x-python",
   "name": "python",
   "nbconvert_exporter": "python",
   "pygments_lexer": "ipython3",
   "version": "3.11.4"
  },
  "orig_nbformat": 4
 },
 "nbformat": 4,
 "nbformat_minor": 2
}
