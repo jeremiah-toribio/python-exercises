{
 "cells": [
  {
   "cell_type": "markdown",
   "metadata": {},
   "source": [
    "## 1. Conditional Basics\n",
    "\n",
    "1a. Prompt the user for a day of the week, print out whether the day is Monday or not"
   ]
  },
  {
   "cell_type": "code",
   "execution_count": 211,
   "metadata": {},
   "outputs": [
    {
     "name": "stdout",
     "output_type": "stream",
     "text": [
      "Nice\n"
     ]
    }
   ],
   "source": [
    "day = input('What day of the week is it? ')\n",
    "\n",
    "days_of_the_week = {'days': ['monday','tuesday', 'wednesday', 'thursday', 'friday']}\n",
    "if day.lower() != days_of_the_week['days'][0]:\n",
    "    print('This isn\\'t Monday')\n",
    "else:\n",
    "    print('Nice')"
   ]
  },
  {
   "cell_type": "markdown",
   "metadata": {},
   "source": [
    "1b. Prompt the user for a day of the week, print out whether the day is a weekday or a weekend"
   ]
  },
  {
   "cell_type": "code",
   "execution_count": 213,
   "metadata": {},
   "outputs": [
    {
     "name": "stdout",
     "output_type": "stream",
     "text": [
      "It's the burger flippin weekend\n"
     ]
    }
   ],
   "source": [
    "day_input = input('What day of the week is it? ')\n",
    "# ['monday', 'tuesday', 'wednesday', 'thursday', 'friday']\n",
    "days_of_the_week = {'days': ['monday','tuesday','wednesday', 'thursday', 'friday'], 'weekend': ['saturday', 'sunday']}\n",
    "\n",
    "if day_input.lower() in days_of_the_week['days']:\n",
    "    print('Oh it\\'s a weekday?')\n",
    "elif day_input.lower() in days_of_the_week['weekend']:\n",
    "    print('It\\'s the burger flippin weekend')\n",
    "else:\n",
    "    print('that\\'s not a day')"
   ]
  },
  {
   "cell_type": "markdown",
   "metadata": {},
   "source": [
    "### Calculate a weekly paycheck, accounting for overtime pay. Create variables and make up values for:\n",
    "\n",
    "- The number of hours worked in one week\n",
    "- The hourly rate\n",
    "*For calculating pay:*\n",
    "\n",
    "- For working 40 hours or less, each hour is paid at the hourly rate\n",
    "- For working more than 40 hours\n",
    "    - the first 40 hours are paid at the hourly rate\n",
    "    - each hour after 40 is paid at time and a half (hourly rate * 1.5)"
   ]
  },
  {
   "cell_type": "code",
   "execution_count": 223,
   "metadata": {},
   "outputs": [
    {
     "name": "stdout",
     "output_type": "stream",
     "text": [
      "2700\n"
     ]
    }
   ],
   "source": [
    "# create an input for the number of hours worked\n",
    "#num_hrs = int(input('how many hours were worked this week?'))\n",
    "# INPUT\n",
    "# OR \n",
    "# Function check\n",
    "\n",
    "hr_rate = 30\n",
    "ot_pay = 45\n",
    "\n",
    "# function to calculate wages with overtime in consideration \n",
    "def ot_check(num_hrs):\n",
    "    if num_hrs > 40:\n",
    "        ot_hrs = (num_hrs - 40)\n",
    "        print((ot_hrs * ot_pay) + (num_hrs * hr_rate))\n",
    "    else:\n",
    "        print(num_hrs * hr_rate)\n",
    "\n",
    "ot_check(60)\n"
   ]
  },
  {
   "cell_type": "markdown",
   "metadata": {},
   "source": [
    "## 2. Loop Basics\n",
    "\n",
    "### a. While\n",
    "\n",
    "*i. Create an integer variable i with a value of 5. Create a while loop that runs so long as i is less than or equal to 15.* </br>\n",
    "\n",
    "*Each loop iteration, output the current value of i, then increment i by one.*"
   ]
  },
  {
   "cell_type": "code",
   "execution_count": null,
   "metadata": {},
   "outputs": [],
   "source": [
    "i = 5\n",
    "while i <= 15:\n",
    "    print(i)\n",
    "    i += 1"
   ]
  },
  {
   "cell_type": "markdown",
   "metadata": {},
   "source": [
    "i. Create a while loop that will count by 2's starting with 0 and ending at 100. Follow each number with a new line."
   ]
  },
  {
   "cell_type": "code",
   "execution_count": null,
   "metadata": {},
   "outputs": [],
   "source": [
    "i = 2\n",
    "while i < 100:\n",
    "    i += 2\n",
    "    print(i)"
   ]
  },
  {
   "cell_type": "markdown",
   "metadata": {},
   "source": [
    "ii. Create a while loop that starts at 2, and displays the number squared on each line while the number is less than 1,000,000. Output should equal:"
   ]
  },
  {
   "cell_type": "code",
   "execution_count": 224,
   "metadata": {},
   "outputs": [
    {
     "name": "stdout",
     "output_type": "stream",
     "text": [
      "2\n",
      "4\n",
      "16\n",
      "256\n",
      "65536\n"
     ]
    }
   ],
   "source": [
    "\n",
    "i = 2\n",
    "while i <= 1000000:\n",
    "    print(i)\n",
    "    i **= 2"
   ]
  },
  {
   "cell_type": "markdown",
   "metadata": {},
   "source": [
    "iii. Write a while loop that uses print to create the output shown below."
   ]
  },
  {
   "cell_type": "code",
   "execution_count": null,
   "metadata": {},
   "outputs": [],
   "source": [
    "i = 105\n",
    "while i > 5:\n",
    "    i -= 5\n",
    "    print(i)"
   ]
  },
  {
   "cell_type": "markdown",
   "metadata": {},
   "source": [
    "# b. For Loops\n",
    "\n",
    "*i. Write some code using a for loop that prompts the user for a number, then shows a multiplication table up through 10 for that number.*"
   ]
  },
  {
   "cell_type": "code",
   "execution_count": 225,
   "metadata": {},
   "outputs": [
    {
     "name": "stdout",
     "output_type": "stream",
     "text": [
      "33 x 1 = 33\n",
      "33 x 2 = 66\n",
      "33 x 3 = 99\n",
      "33 x 4 = 132\n",
      "33 x 5 = 165\n",
      "33 x 6 = 198\n",
      "33 x 7 = 231\n",
      "33 x 8 = 264\n",
      "33 x 9 = 297\n",
      "33 x 10 = 330\n"
     ]
    }
   ],
   "source": [
    "num_check = int(input('See the first 10 multiples of any number: '))\n",
    "ran = range(1,11)\n",
    "for num in ran:\n",
    "    print(num_check, 'x', num, '=', num_check * num)"
   ]
  },
  {
   "cell_type": "markdown",
   "metadata": {},
   "source": [
    "ii. Create a for loop that uses print to create the output shown below."
   ]
  },
  {
   "cell_type": "code",
   "execution_count": 228,
   "metadata": {},
   "outputs": [
    {
     "name": "stdout",
     "output_type": "stream",
     "text": [
      "1\n",
      "22\n",
      "333\n",
      "4444\n",
      "55555\n",
      "666666\n",
      "7777777\n",
      "88888888\n",
      "999999999\n"
     ]
    }
   ],
   "source": [
    "for i in range(1, 9+1):\n",
    "    for j in range(1, i+1):\n",
    "        print(i, end=\"\")\n",
    "    print()"
   ]
  },
  {
   "cell_type": "markdown",
   "metadata": {},
   "source": [
    "## c. break and continue\n",
    "\n",
    "i. Write a program that prompts the user for a positive integer. Next write a loop that prints out the numbers from the number the user entered down to 1."
   ]
  },
  {
   "cell_type": "code",
   "execution_count": 227,
   "metadata": {},
   "outputs": [
    {
     "name": "stdout",
     "output_type": "stream",
     "text": [
      "7\n",
      "6\n",
      "5\n",
      "4\n",
      "3\n",
      "2\n",
      "1\n"
     ]
    }
   ],
   "source": [
    "num = int(input('bring any positive integer down to 1: '))\n",
    "i = 0\n",
    "\n",
    "if num % 2 == 0:\n",
    "    while num > 1:\n",
    "        num -= 1\n",
    "        print(num)\n",
    "else:\n",
    "    print('a POS int')"
   ]
  },
  {
   "cell_type": "markdown",
   "metadata": {},
   "source": [
    "ii. The input function can be used to prompt for input and use that input in your python code. Prompt the user to enter a positive number and write a loop that counts from 0 to that number. (Hints: note that the input function returns a string, so you'll need to convert this to a numeric type.)"
   ]
  },
  {
   "cell_type": "code",
   "execution_count": 66,
   "metadata": {},
   "outputs": [
    {
     "name": "stdout",
     "output_type": "stream",
     "text": [
      "4\n",
      "3\n",
      "2\n",
      "1\n",
      "0\n"
     ]
    }
   ],
   "source": [
    "num = int(input('bring your number to 0: '))\n",
    "\n",
    "\n",
    "#\n",
    "while num != 0:\n",
    "    num -= 1\n",
    "    print(num)\n",
    "    if num < 0:\n",
    "        print('positive int only')\n",
    "        break\n",
    "    else:\n",
    "        continue\n",
    "\n",
    "# Inverse\n",
    "for i in range(num+1):\n",
    "    print(i)\n"
   ]
  },
  {
   "cell_type": "markdown",
   "metadata": {},
   "source": [
    "iii. Prompt the user for an odd number between 1 and 50. Use a loop and a break statement to continue prompting the user if they enter invalid input. (Hint: use the isdigit method on strings to determine this). Use a loop and the continue statement to output all the odd numbers between 1 and 50, except for the number the user entered."
   ]
  },
  {
   "cell_type": "code",
   "execution_count": 196,
   "metadata": {},
   "outputs": [
    {
     "name": "stdout",
     "output_type": "stream",
     "text": [
      "Here's an odd number: 1\n",
      "Here's an odd number: 3\n",
      "Here's an odd number: 5\n",
      "Here's an odd number: 7\n",
      "Here's an odd number: 9\n",
      "Here's an odd number: 11\n",
      "Here's an odd number: 13\n",
      "Here's an odd number: 15\n",
      "Here's an odd number: 17\n",
      "Here's an odd number: 19\n",
      "Here's an odd number: 21\n",
      "Here's an odd number: 23\n",
      "Here's an odd number: 25\n",
      "Not this guy. 27\n",
      "Here's an odd number: 29\n",
      "Here's an odd number: 31\n",
      "Here's an odd number: 33\n",
      "Here's an odd number: 35\n",
      "Here's an odd number: 37\n",
      "Here's an odd number: 39\n",
      "Here's an odd number: 41\n",
      "Here's an odd number: 43\n",
      "Here's an odd number: 45\n",
      "Here's an odd number: 47\n",
      "Here's an odd number: 49\n",
      "Here's an odd number: 51\n"
     ]
    }
   ],
   "source": [
    "num = int(input('Give an odd number 1-50: '))\n",
    "x = []\n",
    "x.append(num)\n",
    "y = int(x[0])\n",
    "\n",
    "if (num % 2 != 0) and num < 49:\n",
    "        for num in range(-1,50,2):\n",
    "            num += 2\n",
    "            if num == y:\n",
    "                print('Not this guy.', num)\n",
    "                continue\n",
    "            print('Here\\'s an odd number:', num)\n",
    "else:\n",
    "    print('Try another number.')"
   ]
  },
  {
   "cell_type": "markdown",
   "metadata": {},
   "source": [
    "## 3. Fizzbuzz\n",
    "\n",
    "One of the most common interview questions for entry-level programmers is the FizzBuzz test. Developed by Imran Ghory, the test is designed to test basic looping and conditional logic skills.\n",
    "\n",
    "- Write a program that prints the numbers from 1 to 100.\n",
    "- For multiples of three print \"Fizz\" instead of the number\n",
    "- For the multiples of five print \"Buzz\".\n",
    "- For numbers which are multiples of both three and five print \"FizzBuzz\"."
   ]
  },
  {
   "cell_type": "code",
   "execution_count": 229,
   "metadata": {},
   "outputs": [
    {
     "name": "stdout",
     "output_type": "stream",
     "text": [
      "1\n",
      "2\n",
      "Fizz\n",
      "4\n",
      "Buzz\n",
      "Fizz\n",
      "7\n",
      "8\n",
      "Fizz\n",
      "Buzz\n",
      "11\n",
      "Fizz\n",
      "13\n",
      "14\n",
      "FizzBuzz\n",
      "16\n",
      "17\n",
      "Fizz\n",
      "19\n",
      "Buzz\n",
      "Fizz\n",
      "22\n",
      "23\n",
      "Fizz\n",
      "Buzz\n",
      "26\n",
      "Fizz\n",
      "28\n",
      "29\n",
      "FizzBuzz\n",
      "31\n",
      "32\n",
      "Fizz\n",
      "34\n",
      "Buzz\n",
      "Fizz\n",
      "37\n",
      "38\n",
      "Fizz\n",
      "Buzz\n",
      "41\n",
      "Fizz\n",
      "43\n",
      "44\n",
      "FizzBuzz\n",
      "46\n",
      "47\n",
      "Fizz\n",
      "49\n",
      "Buzz\n",
      "Fizz\n",
      "52\n",
      "53\n",
      "Fizz\n",
      "Buzz\n",
      "56\n",
      "Fizz\n",
      "58\n",
      "59\n",
      "FizzBuzz\n",
      "61\n",
      "62\n",
      "Fizz\n",
      "64\n",
      "Buzz\n",
      "Fizz\n",
      "67\n",
      "68\n",
      "Fizz\n",
      "Buzz\n",
      "71\n",
      "Fizz\n",
      "73\n",
      "74\n",
      "FizzBuzz\n",
      "76\n",
      "77\n",
      "Fizz\n",
      "79\n",
      "Buzz\n",
      "Fizz\n",
      "82\n",
      "83\n",
      "Fizz\n",
      "Buzz\n",
      "86\n",
      "Fizz\n",
      "88\n",
      "89\n",
      "FizzBuzz\n",
      "91\n",
      "92\n",
      "Fizz\n",
      "94\n",
      "Buzz\n",
      "Fizz\n",
      "97\n",
      "98\n",
      "Fizz\n"
     ]
    }
   ],
   "source": [
    "for n in range(1,101):\n",
    "    if n % 3 == 0 and n % 5 == 0:\n",
    "        print('FizzBuzz')\n",
    "    elif n % 3 == 0:\n",
    "        print('Fizz')\n",
    "    elif n % 5 == 0:\n",
    "        print('Buzz')\n",
    "    else:\n",
    "        print(n)"
   ]
  },
  {
   "cell_type": "markdown",
   "metadata": {},
   "source": [
    "### 4. Display a table of powers.\n",
    "\n",
    "- Prompt the user to enter an integer\n",
    "- Display a table of squares and cubes from 1 to the value entered\n",
    "- Ask if the user wants to continue\n",
    "- Assume that the user will enter valid data\n",
    "- Only continue if the user agrees to\n"
   ]
  },
  {
   "cell_type": "code",
   "execution_count": 231,
   "metadata": {},
   "outputs": [
    {
     "ename": "SyntaxError",
     "evalue": "invalid syntax (2104168118.py, line 1)",
     "output_type": "error",
     "traceback": [
      "\u001b[0;36m  Cell \u001b[0;32mIn[231], line 1\u001b[0;36m\u001b[0m\n\u001b[0;31m    While True:\u001b[0m\n\u001b[0m          ^\u001b[0m\n\u001b[0;31mSyntaxError\u001b[0m\u001b[0;31m:\u001b[0m invalid syntax\n"
     ]
    }
   ],
   "source": [
    "while True:\n",
    "    pos_int = int(input('enter a pos int: '))\n",
    "    \n",
    "    for i in range (1,pos_int,+1):\n",
    "        print(i, i **2, i **3)\n",
    "\n",
    "    cont = input('Enter YES if you want to continue: ')\n",
    "\n",
    "    if cont.upper() != 'YES':\n",
    "        break\n",
    "    "
   ]
  },
  {
   "cell_type": "markdown",
   "metadata": {},
   "source": [
    "Convert given number grades into letter grades.\n",
    "\n",
    "- Prompt the user for a numerical grade from 0 to 100\n",
    "- Display the corresponding letter grade\n",
    "- Prompt the user to continue\n",
    "- Assume that the user will enter valid integers for the grades\n",
    "- The application should only continue if the user agrees to\n",
    "\n",
    "Grade Ranges:\n",
    "\n",
    "- A : 100 - 88\n",
    "- B : 87 - 80\n",
    "- C : 79 - 67\n",
    "- D : 66 - 60\n",
    "- F : 59 - 0\n"
   ]
  },
  {
   "cell_type": "code",
   "execution_count": 249,
   "metadata": {},
   "outputs": [
    {
     "name": "stdout",
     "output_type": "stream",
     "text": [
      "A\n"
     ]
    }
   ],
   "source": [
    "grade = 0\n",
    "\n",
    "\n",
    "while True:\n",
    "    grade = int(input('enter a numerical score here of 0-100: '))\n",
    "    if grade >= 88 and grade <= 100:\n",
    "        print('A')\n",
    "    elif grade >= 80 and grade <= 87:\n",
    "        print('B')\n",
    "    elif grade >= 67 and grade <= 79:\n",
    "        print('C')\n",
    "    elif grade >= 60 and grade <= 66:\n",
    "        print('D')\n",
    "    else:\n",
    "        print('F')\n",
    "    user_yn = input('would you like to continue? y or n')\n",
    "    if user_yn.lower() != 'y':\n",
    "        break\n",
    "\n"
   ]
  },
  {
   "cell_type": "code",
   "execution_count": 250,
   "metadata": {},
   "outputs": [],
   "source": [
    "books = [{'title': 'brave new world', 'athor': 'aldous', 'genre':'scify'}]"
   ]
  },
  {
   "cell_type": "code",
   "execution_count": 251,
   "metadata": {},
   "outputs": [
    {
     "name": "stdout",
     "output_type": "stream",
     "text": [
      "brave new world\n"
     ]
    }
   ],
   "source": [
    "input_genre = input('enter a genre: ')\n",
    "\n",
    "for book in books:\n",
    "    if book['genre'] == input_genre:\n",
    "        print(book['title'])"
   ]
  },
  {
   "cell_type": "code",
   "execution_count": null,
   "metadata": {},
   "outputs": [],
   "source": []
  }
 ],
 "metadata": {
  "kernelspec": {
   "display_name": "codeup",
   "language": "python",
   "name": "python3"
  },
  "language_info": {
   "codemirror_mode": {
    "name": "ipython",
    "version": 3
   },
   "file_extension": ".py",
   "mimetype": "text/x-python",
   "name": "python",
   "nbconvert_exporter": "python",
   "pygments_lexer": "ipython3",
   "version": "3.11.4"
  },
  "orig_nbformat": 4
 },
 "nbformat": 4,
 "nbformat_minor": 2
}
